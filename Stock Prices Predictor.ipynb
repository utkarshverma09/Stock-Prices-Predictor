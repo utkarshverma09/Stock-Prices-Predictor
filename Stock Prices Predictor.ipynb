{
 "cells": [
  {
   "cell_type": "code",
   "execution_count": 103,
   "metadata": {},
   "outputs": [],
   "source": [
    "#importing libraries\n",
    "import quandl\n",
    "import pandas as pd\n",
    "import numpy as np\n",
    "import matplotlib.pyplot as plot\n",
    "import datetime\n",
    "from sklearn.model_selection import train_test_split\n",
    "from sklearn import preprocessing\n",
    "from sklearn.linear_model import LinearRegression"
   ]
  },
  {
   "cell_type": "code",
   "execution_count": 104,
   "metadata": {},
   "outputs": [],
   "source": [
    "#getting the data\n",
    "#setting up the api key for extracting data from Quandl\n",
    "quandl.ApiConfig.api_key='nAsXM5RzKg-T8KsVwMrc'\n",
    "\n",
    "#extracting data for Chevron Corporation\n",
    "df=quandl.get(\"WIKI/CVX\")\n",
    "df=df[['Adj. Close']]"
   ]
  },
  {
   "cell_type": "markdown",
   "metadata": {},
   "source": [
    "In this project we are predicting stock prices of Chevron Corporations. It can also be used for other companies just by adding the symbol of the company for which you want to predict the price. The symbol of the company can be found here on this website: https://finance.yahoo.com/lookup. For example: If you want predict prices of Google, then you have to replace WIKI/CVX by WIKI/GOOGL. "
   ]
  },
  {
   "cell_type": "code",
   "execution_count": 175,
   "metadata": {
    "scrolled": true
   },
   "outputs": [
    {
     "data": {
      "image/png": "[encoded data removed]",
      "text/plain": [
       "<Figure size 720x360 with 1 Axes>"
      ]
     },
     "metadata": {
      "needs_background": "light"
     },
     "output_type": "display_data"
    }
   ],
   "source": [
    "#plotting the current trend\n",
    "df['Adj. Close'].plot(figsize=(10,5),color='#054907')\n",
    "plot.legend(loc='upper left')\n",
    "plot.show()"
   ]
  },
  {
   "cell_type": "markdown",
   "metadata": {},
   "source": [
    "Since, Quandal WIKI service is replaced by Alpha Vantage, which is a more premium and paid service, in 2018. Therefore, the data that I have used is only upto 2018."
   ]
  },
  {
   "cell_type": "code",
   "execution_count": 157,
   "metadata": {},
   "outputs": [
    {
     "data": {
      "text/html": [
       "<div>\n",
       "<style scoped>\n",
       "    .dataframe tbody tr th:only-of-type {\n",
       "        vertical-align: middle;\n",
       "    }\n",
       "\n",
       "    .dataframe tbody tr th {\n",
       "        vertical-align: top;\n",
       "    }\n",
       "\n",
       "    .dataframe thead th {\n",
       "        text-align: right;\n",
       "    }\n",
       "</style>\n",
       "<table border=\"1\" class=\"dataframe\">\n",
       "  <thead>\n",
       "    <tr style=\"text-align: right;\">\n",
       "      <th></th>\n",
       "      <th>Adj. Close</th>\n",
       "      <th>Predictions</th>\n",
       "    </tr>\n",
       "    <tr>\n",
       "      <th>Date</th>\n",
       "      <th></th>\n",
       "      <th></th>\n",
       "    </tr>\n",
       "  </thead>\n",
       "  <tbody>\n",
       "    <tr>\n",
       "      <th>1970-01-02</th>\n",
       "      <td>4.286453</td>\n",
       "      <td>3.999322</td>\n",
       "    </tr>\n",
       "    <tr>\n",
       "      <th>1970-01-05</th>\n",
       "      <td>4.306962</td>\n",
       "      <td>3.968968</td>\n",
       "    </tr>\n",
       "    <tr>\n",
       "      <th>1970-01-06</th>\n",
       "      <td>4.245434</td>\n",
       "      <td>3.958303</td>\n",
       "    </tr>\n",
       "    <tr>\n",
       "      <th>1970-01-07</th>\n",
       "      <td>4.234769</td>\n",
       "      <td>3.824582</td>\n",
       "    </tr>\n",
       "    <tr>\n",
       "      <th>1970-01-08</th>\n",
       "      <td>4.316806</td>\n",
       "      <td>3.814738</td>\n",
       "    </tr>\n",
       "    <tr>\n",
       "      <th>...</th>\n",
       "      <td>...</td>\n",
       "      <td>...</td>\n",
       "    </tr>\n",
       "    <tr>\n",
       "      <th>2018-03-21</th>\n",
       "      <td>117.040000</td>\n",
       "      <td>NaN</td>\n",
       "    </tr>\n",
       "    <tr>\n",
       "      <th>2018-03-22</th>\n",
       "      <td>113.700000</td>\n",
       "      <td>NaN</td>\n",
       "    </tr>\n",
       "    <tr>\n",
       "      <th>2018-03-23</th>\n",
       "      <td>112.980000</td>\n",
       "      <td>NaN</td>\n",
       "    </tr>\n",
       "    <tr>\n",
       "      <th>2018-03-26</th>\n",
       "      <td>115.350000</td>\n",
       "      <td>NaN</td>\n",
       "    </tr>\n",
       "    <tr>\n",
       "      <th>2018-03-27</th>\n",
       "      <td>114.660000</td>\n",
       "      <td>NaN</td>\n",
       "    </tr>\n",
       "  </tbody>\n",
       "</table>\n",
       "<p>12168 rows × 2 columns</p>\n",
       "</div>"
      ],
      "text/plain": [
       "            Adj. Close  Predictions\n",
       "Date                               \n",
       "1970-01-02    4.286453     3.999322\n",
       "1970-01-05    4.306962     3.968968\n",
       "1970-01-06    4.245434     3.958303\n",
       "1970-01-07    4.234769     3.824582\n",
       "1970-01-08    4.316806     3.814738\n",
       "...                ...          ...\n",
       "2018-03-21  117.040000          NaN\n",
       "2018-03-22  113.700000          NaN\n",
       "2018-03-23  112.980000          NaN\n",
       "2018-03-26  115.350000          NaN\n",
       "2018-03-27  114.660000          NaN\n",
       "\n",
       "[12168 rows x 2 columns]"
      ]
     },
     "execution_count": 157,
     "metadata": {},
     "output_type": "execute_result"
    }
   ],
   "source": [
    "forecast=15\n",
    "df['Predictions']=df[['Adj. Close']].shift(-forecast)\n",
    "df"
   ]
  },
  {
   "cell_type": "code",
   "execution_count": 158,
   "metadata": {},
   "outputs": [],
   "source": [
    "#setting up the labels and features\n",
    "X=np.array(df.drop(['Predictions'],1))\n",
    "X=preprocessing.scale(X)\n",
    "X_forecast=X[-forecast:]\n",
    "X=X[:-forecast]\n",
    "y=np.array(df['Predictions'])\n",
    "y=y[:-forecast]"
   ]
  },
  {
   "cell_type": "code",
   "execution_count": 159,
   "metadata": {},
   "outputs": [
    {
     "name": "stdout",
     "output_type": "stream",
     "text": [
      "Confidence Score:  0.9954384453933484\n",
      "Predicted Values:  [114.24179949 113.75039907 117.63145951 117.20023058 116.86928744\n",
      " 115.5354863  115.9867724  115.80625796 114.29194239 114.90368577\n",
      " 117.45094507 114.10139937 113.37934162 115.75611506 115.06414305]\n"
     ]
    }
   ],
   "source": [
    "#applying linear regression model\n",
    "X_train,X_test,y_train,y_test=train_test_split(X,y,test_size=0.2)\n",
    "clf=LinearRegression()\n",
    "clf.fit(X_train,y_train)\n",
    "confidence=clf.score(X_test,y_test)\n",
    "forecast_predicted=clf.predict(X_forecast)\n",
    "print('Confidence Score: ',confidence)\n",
    "print('Predicted Values: ',forecast_predicted)\n"
   ]
  },
  {
   "cell_type": "code",
   "execution_count": null,
   "metadata": {},
   "outputs": [],
   "source": []
  },
  {
   "cell_type": "code",
   "execution_count": 174,
   "metadata": {
    "scrolled": true
   },
   "outputs": [
    {
     "data": {
      "text/plain": [
       "(17282.0, 17632.0)"
      ]
     },
     "execution_count": 174,
     "metadata": {},
     "output_type": "execute_result"
    },
    {
     "data": {
      "image/png": "[encoded data removed]",
      "text/plain": [
       "<Figure size 432x288 with 1 Axes>"
      ]
     },
     "metadata": {
      "needs_background": "light"
     },
     "output_type": "display_data"
    }
   ],
   "source": [
    "datesRange=pd.date_range(start=\"2018-03-28\",end=\"2018-04-11\")\n",
    "plot.plot(datesRange,forecast_predicted,color=\"#054907\")\n",
    "df['Adj. Close'].plot(color='#069AF3')\n",
    "plot.xlim(xmin=datetime.date(2017,4,26),xmax=datetime.date(2018,4,11))\n"
   ]
  },
  {
   "cell_type": "markdown",
   "metadata": {},
   "source": [
    "The small green line at the end is the predicted stock price for the next 15 days."
   ]
  }
 ],
 "metadata": {
  "kernelspec": {
   "display_name": "Python 3",
   "language": "python",
   "name": "python3"
  },
  "language_info": {
   "codemirror_mode": {
    "name": "ipython",
    "version": 3
   },
   "file_extension": ".py",
   "mimetype": "text/x-python",
   "name": "python",
   "nbconvert_exporter": "python",
   "pygments_lexer": "ipython3",
   "version": "3.8.5"
  }
 },
 "nbformat": 4,
 "nbformat_minor": 4
}
